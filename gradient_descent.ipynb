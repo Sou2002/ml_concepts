{
 "cells": [
  {
   "cell_type": "markdown",
   "metadata": {},
   "source": [
    "## **Gradient Descent**"
   ]
  },
  {
   "cell_type": "markdown",
   "metadata": {},
   "source": [
    "### **Installing Dependencies**"
   ]
  },
  {
   "cell_type": "code",
   "execution_count": 1,
   "metadata": {},
   "outputs": [],
   "source": [
    "import numpy as np\n",
    "from sklearn.datasets import make_regression\n",
    "from sklearn.model_selection import train_test_split"
   ]
  },
  {
   "cell_type": "markdown",
   "metadata": {},
   "source": [
    "### **Importing Dataset**"
   ]
  },
  {
   "cell_type": "code",
   "execution_count": 2,
   "metadata": {},
   "outputs": [],
   "source": [
    "X, y = make_regression(n_samples=100, n_features=2,  # type: ignore\n",
    "                       n_targets=1, noise=80, random_state=2)"
   ]
  },
  {
   "cell_type": "code",
   "execution_count": 3,
   "metadata": {},
   "outputs": [
    {
     "data": {
      "text/plain": [
       "array([[ 0.18040981,  0.55316427],\n",
       "       [-0.27617949, -0.51688389],\n",
       "       [-0.46200535,  0.35088849],\n",
       "       [ 0.39652016, -0.31461744],\n",
       "       [-1.02141473,  0.4323957 ]])"
      ]
     },
     "execution_count": 3,
     "metadata": {},
     "output_type": "execute_result"
    }
   ],
   "source": [
    "X[:5]"
   ]
  },
  {
   "cell_type": "code",
   "execution_count": 4,
   "metadata": {},
   "outputs": [
    {
     "data": {
      "text/plain": [
       "array([ 86.40059546, 132.61681468, -60.80617313,  91.74404743,\n",
       "       -99.18431535])"
      ]
     },
     "execution_count": 4,
     "metadata": {},
     "output_type": "execute_result"
    }
   ],
   "source": [
    "y[:5]"
   ]
  },
  {
   "cell_type": "code",
   "execution_count": 5,
   "metadata": {},
   "outputs": [],
   "source": [
    "X_train, X_test, y_train, y_test = train_test_split(\n",
    "    X, y, test_size=0.2, random_state=2)"
   ]
  },
  {
   "cell_type": "markdown",
   "metadata": {},
   "source": [
    "### **Gradient Descent**"
   ]
  },
  {
   "cell_type": "code",
   "execution_count": 44,
   "metadata": {},
   "outputs": [],
   "source": [
    "class GDRegressor:\n",
    "    def __init__(self, batch_size: int, learning_rate: float = 0.01, epochs: int = 10) -> None:\n",
    "        self.intercept_ = None\n",
    "        self.coef_ = None\n",
    "        self.batch_size: int = batch_size\n",
    "        self.learning_rate: float = learning_rate\n",
    "        self.epochs: int = epochs\n",
    "\n",
    "    def fit(self, X_train, y_train):\n",
    "        self.intercept_ = 0\n",
    "        self.coef_ = np.ones(X_train.shape[1])\n",
    "\n",
    "        for i in range(self.epochs):\n",
    "            np.random.shuffle(X_train)\n",
    "            n_minibatches: int = int(np.ceil(X_train.shape[0] / self.batch_size))\n",
    "            \n",
    "            for j in range(n_minibatches):\n",
    "                X_mini = X_train[j * self.batch_size : (j + 1) * self.batch_size, :]\n",
    "                y_mini = y_train[j * self.batch_size : (j + 1) * self.batch_size]\n",
    "\n",
    "                # print(X_mini.shape)\n",
    "                # print(y_mini.shape)\n",
    "                # print(self.coef_.shape)\n",
    "\n",
    "                y_pred = np.dot(X_mini, self.coef_) + self.intercept_\n",
    "\n",
    "                intercept_der = -2 * np.mean(y_mini - y_pred)\n",
    "                self.intercept_ = self.intercept_ - (self.learning_rate * intercept_der)\n",
    "\n",
    "                coef_der = -2 * np.mean(np.dot((y_mini - y_pred), X_mini))\n",
    "                self.coef_ = self.coef_ - (self.learning_rate * coef_der)\n",
    "\n",
    "    def predict(self, X_test):\n",
    "        y_pred = np.dot(X_test, self.coef_) + self.intercept_\n",
    "        return y_pred"
   ]
  },
  {
   "cell_type": "code",
   "execution_count": 45,
   "metadata": {},
   "outputs": [],
   "source": [
    "lr = GDRegressor(batch_size=10)"
   ]
  },
  {
   "cell_type": "code",
   "execution_count": 46,
   "metadata": {},
   "outputs": [],
   "source": [
    "lr.fit(X_train, y_train)"
   ]
  },
  {
   "cell_type": "code",
   "execution_count": 48,
   "metadata": {},
   "outputs": [
    {
     "data": {
      "text/plain": [
       "array([2.99471805, 2.99471805])"
      ]
     },
     "execution_count": 48,
     "metadata": {},
     "output_type": "execute_result"
    }
   ],
   "source": [
    "lr.coef_"
   ]
  },
  {
   "cell_type": "code",
   "execution_count": 49,
   "metadata": {},
   "outputs": [
    {
     "data": {
      "text/plain": [
       "-23.494094678909676"
      ]
     },
     "execution_count": 49,
     "metadata": {},
     "output_type": "execute_result"
    }
   ],
   "source": [
    "lr.intercept_"
   ]
  },
  {
   "cell_type": "code",
   "execution_count": 47,
   "metadata": {},
   "outputs": [
    {
     "data": {
      "text/plain": [
       "array([-23.66509721, -27.20891834, -19.32061293, -21.68176527,\n",
       "       -17.61753002, -19.41055844, -23.82685833, -24.84213762,\n",
       "       -21.38573342, -24.97925109, -25.71445372, -17.319604  ,\n",
       "       -18.34571829, -18.36751004, -21.29724714, -22.03941605,\n",
       "       -23.24881912, -20.26798978, -24.21820592, -28.41290823])"
      ]
     },
     "execution_count": 47,
     "metadata": {},
     "output_type": "execute_result"
    }
   ],
   "source": [
    "lr.predict(X_test)"
   ]
  },
  {
   "cell_type": "code",
   "execution_count": null,
   "metadata": {},
   "outputs": [],
   "source": []
  }
 ],
 "metadata": {
  "kernelspec": {
   "display_name": "Python 3",
   "language": "python",
   "name": "python3"
  },
  "language_info": {
   "codemirror_mode": {
    "name": "ipython",
    "version": 3
   },
   "file_extension": ".py",
   "mimetype": "text/x-python",
   "name": "python",
   "nbconvert_exporter": "python",
   "pygments_lexer": "ipython3",
   "version": "3.12.1"
  }
 },
 "nbformat": 4,
 "nbformat_minor": 2
}
